{
 "cells": [
  {
   "cell_type": "markdown",
   "metadata": {},
   "source": [
    "# 1C1. Práctica: Cálculo de entropía\n",
    "### Alumna: Jessica Nicole Bracamonte Dzib\n",
    "\n",
    "Preprocesar el texto y convertirlo a minúsculas, quitar acentos y los siguientes caracteres:\n",
    "\n",
    "`\";:,.\\\\-\\\"'/()[]¿?¡!{}~<>|«»-—’\\t\\n\\r\"`\n",
    "\n",
    "1. Calcular la entropía global a nivel de carácter de los documentos text_1 al text_5  de manera independiente. \n",
    "\n",
    "2. Calcular la entropía global a nivel de palabra de los documentos libro_1 y libro_2  de manera independiente. \n",
    "Primero, sin quitar stopwords y luego quitándolas.\n"
   ]
  },
  {
   "cell_type": "markdown",
   "metadata": {},
   "source": [
    "### Preprocesamiento de los documentos text_1 al text_5:"
   ]
  },
  {
   "cell_type": "code",
   "execution_count": 65,
   "metadata": {},
   "outputs": [
    {
     "name": "stderr",
     "output_type": "stream",
     "text": [
      "[nltk_data] Downloading package stopwords to /Users/nico/nltk_data...\n",
      "[nltk_data]   Package stopwords is already up-to-date!\n"
     ]
    },
    {
     "data": {
      "text/plain": [
       "True"
      ]
     },
     "execution_count": 65,
     "metadata": {},
     "output_type": "execute_result"
    }
   ],
   "source": [
    "#librerías que utilizaremos:\n",
    "import re\n",
    "import unicodedata\n",
    "import matplotlib.pyplot as plt\n",
    "import math\n",
    "\n",
    "import nltk\n",
    "from nltk.corpus import stopwords\n",
    "nltk.download('stopwords')"
   ]
  },
  {
   "cell_type": "code",
   "execution_count": 3,
   "metadata": {},
   "outputs": [],
   "source": [
    "#leemos y guardamos los textos.\n",
    "file1 = open( 'text_1.txt', 'r' )\n",
    "text1 = file1.read()\n",
    "\n",
    "file2 = open( 'text_2.txt', 'r' )\n",
    "text2 = file2.read()\n",
    "\n",
    "file3 = open( 'text_3.txt', 'r' )\n",
    "text3 = file3.read()\n",
    "\n",
    "file4 = open( 'text_4.txt', 'r' )\n",
    "text4 = file4.read()\n",
    "\n",
    "file5 = open( 'text_5.txt', 'r' )\n",
    "text5 = file5.read()"
   ]
  },
  {
   "cell_type": "code",
   "execution_count": 4,
   "metadata": {},
   "outputs": [],
   "source": [
    "#convertimos los textos a minúsculas:\n",
    "text1_minus = text1.lower()\n",
    "text2_minus = text2.lower()\n",
    "text3_minus = text3.lower()\n",
    "text4_minus = text4.lower()\n",
    "text5_minus = text5.lower()"
   ]
  },
  {
   "cell_type": "code",
   "execution_count": 5,
   "metadata": {},
   "outputs": [],
   "source": [
    "# definimos una función para quitar los acentos:\n",
    "def remover_acentos(texto):\n",
    "    nfkd_form = unicodedata.normalize('NFKD',texto)\n",
    "    return u\"\".join([c for c in nfkd_form if not unicodedata.combining(c)])"
   ]
  },
  {
   "cell_type": "code",
   "execution_count": 6,
   "metadata": {},
   "outputs": [],
   "source": [
    "#guardamos en nuevas variables\n",
    "text1_minus_ac = remover_acentos(text1_minus)\n",
    "text2_minus_ac = remover_acentos(text2_minus)\n",
    "text3_minus_ac = remover_acentos(text3_minus)\n",
    "text4_minus_ac = remover_acentos(text4_minus)\n",
    "text5_minus_ac = remover_acentos(text5_minus)"
   ]
  },
  {
   "cell_type": "code",
   "execution_count": 7,
   "metadata": {},
   "outputs": [],
   "source": [
    "#quitamos caracteres especiales usando re:\n",
    "text1_final = re.sub(r\"[;:,.\\-\\\"'/\\(\\)\\[\\]¿?¡!\\{\\}~<>|«»-—’\\t\\n\\r]\", \"\", text1_minus_ac)\n",
    "text2_final = re.sub(r\"[;:,.\\-\\\"'/\\(\\)\\[\\]¿?¡!\\{\\}~<>|«»-—’\\t\\n\\r]\", \"\", text2_minus_ac)\n",
    "text3_final = re.sub(r\"[;:,.\\-\\\"'/\\(\\)\\[\\]¿?¡!\\{\\}~<>|«»-—’\\t\\n\\r]\", \"\", text3_minus_ac)\n",
    "text4_final = re.sub(r\"[;:,.\\-\\\"'/\\(\\)\\[\\]¿?¡!\\{\\}~<>|«»-—’\\t\\n\\r]\", \"\", text4_minus_ac)\n",
    "text5_final = re.sub(r\"[;:,.\\-\\\"'/\\(\\)\\[\\]¿?¡!\\{\\}~<>|«»-—’\\t\\n\\r]\", \"\", text5_minus_ac)"
   ]
  },
  {
   "cell_type": "markdown",
   "metadata": {},
   "source": [
    "## Calcular la entropía global a nivel de carácter de los documentos text_1 al text_5  de manera independiente. "
   ]
  },
  {
   "cell_type": "markdown",
   "metadata": {},
   "source": [
    "Para calcular la entropía global necesitamos conocer la probabilidad de cada variable aleatoria; en el caso del ejercicio sería la probabilidad de ocurrencia de los caracteres presentes en los textos, es decir, la división de la **frecuencia del caracter** entre el **total de los caracteres**.\n"
   ]
  },
  {
   "cell_type": "markdown",
   "metadata": {},
   "source": [
    "- Comenzamos definiendo una función que reciba el texto y nos devuelva un diccionario con las frecuencias de cada caracter."
   ]
  },
  {
   "cell_type": "code",
   "execution_count": 40,
   "metadata": {},
   "outputs": [],
   "source": [
    "#Definimos una función para contar los caracteres. \n",
    "def contador_caracteres(texto):\n",
    "    conteo = {}\n",
    "    for caracter in texto:\n",
    "        conteo[caracter] = conteo.get(caracter,0) +1\n",
    "    return conteo"
   ]
  },
  {
   "cell_type": "code",
   "execution_count": 41,
   "metadata": {},
   "outputs": [],
   "source": [
    "#Guardamos las frecuencias en variables.\n",
    "frecuencias_text1 = contador_caracteres(text1_final)\n",
    "frecuencias_text2 = contador_caracteres(text2_final)\n",
    "frecuencias_text3 = contador_caracteres(text3_final)\n",
    "frecuencias_text4 = contador_caracteres(text4_final)\n",
    "frecuencias_text5 = contador_caracteres(text5_final)"
   ]
  },
  {
   "cell_type": "markdown",
   "metadata": {},
   "source": [
    "- Creamos una función que nos devuelva la suma total de los caracteres en los textos o lo que sería nuestro espacio muestral, y guardamos esta información en variables."
   ]
  },
  {
   "cell_type": "code",
   "execution_count": 42,
   "metadata": {},
   "outputs": [],
   "source": [
    "def total_caracteres(frecuencias):\n",
    "  total = sum(frecuencias.values())\n",
    "  return total"
   ]
  },
  {
   "cell_type": "code",
   "execution_count": 43,
   "metadata": {},
   "outputs": [],
   "source": [
    "#Guardamos los totales en variables.\n",
    "total_caracteres_text1 = total_caracteres(frecuencias_text1)\n",
    "total_caracteres_text2 = total_caracteres(frecuencias_text2)\n",
    "total_caracteres_text3 = total_caracteres(frecuencias_text3)\n",
    "total_caracteres_text4 = total_caracteres(frecuencias_text4)\n",
    "total_caracteres_text5 = total_caracteres(frecuencias_text5)"
   ]
  },
  {
   "cell_type": "markdown",
   "metadata": {},
   "source": [
    "### Creación de la función de Entropía"
   ]
  },
  {
   "cell_type": "markdown",
   "metadata": {},
   "source": [
    "- Creamos una función para calcular la entropía."
   ]
  },
  {
   "cell_type": "code",
   "execution_count": 44,
   "metadata": {},
   "outputs": [],
   "source": [
    "def calculo_entropia (frecuencias, total):\n",
    "    entropia = 0\n",
    "    for frecuencia in frecuencias.values():\n",
    "        probabilidad = frecuencia / total\n",
    "        entropia -= (probabilidad * math.log2(probabilidad))\n",
    "\n",
    "    return entropia"
   ]
  },
  {
   "cell_type": "markdown",
   "metadata": {},
   "source": [
    "- Creamos un caso de prueba para verificar su correcto funcionamiento."
   ]
  },
  {
   "cell_type": "code",
   "execution_count": 45,
   "metadata": {},
   "outputs": [
    {
     "name": "stdout",
     "output_type": "stream",
     "text": [
      "{'C': 1, 'A': 3, 'N': 1, 'T': 2} 7\n"
     ]
    }
   ],
   "source": [
    "texto_prueba = 'CANTATA'\n",
    "frecuencia_prueba=contador_caracteres(texto_prueba)\n",
    "total_prueba = total_caracteres(frecuencia_prueba)\n",
    "print(frecuencia_prueba,total_prueba)"
   ]
  },
  {
   "cell_type": "code",
   "execution_count": 46,
   "metadata": {},
   "outputs": [
    {
     "name": "stdout",
     "output_type": "stream",
     "text": [
      "1.8423709931771084\n"
     ]
    }
   ],
   "source": [
    "entropia_prueba = calculo_entropia(frecuencia_prueba,total_prueba)\n",
    "print(entropia_prueba)"
   ]
  },
  {
   "cell_type": "markdown",
   "metadata": {},
   "source": [
    "- ### Calculamos la entropía global a nivel de carácter de los documentos text_1 al text_5  de manera independiente. "
   ]
  },
  {
   "cell_type": "code",
   "execution_count": 47,
   "metadata": {},
   "outputs": [],
   "source": [
    "entropia_text1 = calculo_entropia(frecuencias_text1,total_caracteres_text1)\n",
    "entropia_text2 = calculo_entropia(frecuencias_text2,total_caracteres_text2)\n",
    "entropia_text3 = calculo_entropia(frecuencias_text3,total_caracteres_text3)\n",
    "entropia_text4 = calculo_entropia(frecuencias_text4,total_caracteres_text4)\n",
    "entropia_text5 = calculo_entropia(frecuencias_text5,total_caracteres_text5)"
   ]
  },
  {
   "cell_type": "code",
   "execution_count": 48,
   "metadata": {},
   "outputs": [
    {
     "name": "stdout",
     "output_type": "stream",
     "text": [
      "La entropía global del texto 1 es de: 3.1681820267348035\n",
      "La entropía global del texto 2 es de: 3.188483436190213\n",
      "La entropía global del texto 3 es de: 3.3242783480628573\n",
      "La entropía global del texto 4 es de: 3.2153472642292873\n",
      "La entropía global del texto 5 es de: 3.265906719965582\n"
     ]
    }
   ],
   "source": [
    "print(\"La entropía global del texto 1 es de:\", entropia_text1)\n",
    "print(\"La entropía global del texto 2 es de:\", entropia_text2)\n",
    "print(\"La entropía global del texto 3 es de:\", entropia_text3)\n",
    "print(\"La entropía global del texto 4 es de:\", entropia_text4)\n",
    "print(\"La entropía global del texto 5 es de:\", entropia_text5)"
   ]
  },
  {
   "cell_type": "markdown",
   "metadata": {},
   "source": [
    "## Análisis?"
   ]
  },
  {
   "cell_type": "markdown",
   "metadata": {},
   "source": [
    "----\n",
    "\n",
    "### Preprocesamiento del libro_1 y libro_2"
   ]
  },
  {
   "cell_type": "code",
   "execution_count": 49,
   "metadata": {},
   "outputs": [],
   "source": [
    "#leemos y guardamos los textos.\n",
    "file1 = open( 'libro_1.txt', 'r' )\n",
    "libro1= file1.read()\n",
    "\n",
    "file2 = open( 'libro_2.txt', 'r' )\n",
    "libro2 = file2.read()"
   ]
  },
  {
   "cell_type": "code",
   "execution_count": 50,
   "metadata": {},
   "outputs": [],
   "source": [
    "#convertimos los textos a minúsculas:\n",
    "libro1_1 = libro1.lower()\n",
    "libro2_1 = libro2.lower()"
   ]
  },
  {
   "cell_type": "code",
   "execution_count": 51,
   "metadata": {},
   "outputs": [],
   "source": [
    "#Removemos los acentos.\n",
    "libro1_2= remover_acentos(libro1_1)\n",
    "libro2_2 = remover_acentos(libro2_1)"
   ]
  },
  {
   "cell_type": "code",
   "execution_count": 53,
   "metadata": {},
   "outputs": [],
   "source": [
    "#reemplazamos los saltos de página por espacios usando re:\n",
    "libro1_3 = re.sub(r\"\\n\", \" \", libro1_2)\n",
    "libro2_3 = re.sub(r\"\\n\", \" \", libro2_2)"
   ]
  },
  {
   "cell_type": "code",
   "execution_count": 54,
   "metadata": {},
   "outputs": [],
   "source": [
    "#quitamos caracteres especiales usando re:\n",
    "libro1_final = re.sub(r\"[;:,.\\-\\\"'/\\(\\)\\[\\]¿?¡!\\{\\}~<>|«»-—’\\t\\r]\", \"\", libro1_3)\n",
    "libro2_final = re.sub(r\"[;:,.\\-\\\"'/\\(\\)\\[\\]¿?¡!\\{\\}~<>|«»-—’\\t\\r]\", \"\", libro2_3)"
   ]
  },
  {
   "cell_type": "markdown",
   "metadata": {},
   "source": [
    "## 2. Calcular la entropía global a nivel de palabra de los documentos libro_1 y libro_2  de manera independiente. \n",
    "- ### Primero, sin quitar stopwords."
   ]
  },
  {
   "cell_type": "markdown",
   "metadata": {},
   "source": [
    "- Comenzamos definiendo una función que reciba el texto y nos devuelva un diccionario con las frecuencias de cada palabra."
   ]
  },
  {
   "cell_type": "code",
   "execution_count": 60,
   "metadata": {},
   "outputs": [],
   "source": [
    "def contador_palabras(texto):\n",
    "    palabras = re.findall(r'\\w+', texto)\n",
    "\n",
    "    conteo = {}\n",
    "    for palabra in palabras:\n",
    "        conteo[palabra] = conteo.get(palabra, 0) + 1\n",
    "\n",
    "    return conteo"
   ]
  },
  {
   "cell_type": "code",
   "execution_count": 61,
   "metadata": {},
   "outputs": [],
   "source": [
    "frecc_libro1 = contador_palabras(libro1_final)\n",
    "frecc_libro2 = contador_palabras(libro2_final)"
   ]
  },
  {
   "cell_type": "markdown",
   "metadata": {},
   "source": [
    "- Utilizamos la función definida anteriormente como `total_caracteres` para encontrar el total de las palabras en los textos o lo que sería nuestro espacio muestral, y de la misma manera guardamos esta información en variables."
   ]
  },
  {
   "cell_type": "code",
   "execution_count": 63,
   "metadata": {},
   "outputs": [
    {
     "name": "stdout",
     "output_type": "stream",
     "text": [
      "56814 50540\n"
     ]
    }
   ],
   "source": [
    "total_palabras_libro1 = total_caracteres(frecc_libro1)\n",
    "total_palabras_libro2 = total_caracteres(frecc_libro2)\n",
    "\n",
    "print (total_palabras_libro1, total_palabras_libro2)"
   ]
  },
  {
   "cell_type": "markdown",
   "metadata": {},
   "source": [
    "- #### Calculamos la entropía global a nivel de carácter de los documentos libro_1 y libro_2 de manera independiente. "
   ]
  },
  {
   "cell_type": "code",
   "execution_count": 64,
   "metadata": {},
   "outputs": [
    {
     "name": "stdout",
     "output_type": "stream",
     "text": [
      "La entropía global del texto 1 es de: 9.21154132057109\n",
      "La entropía global del texto 2 es de: 9.61096251407057\n"
     ]
    }
   ],
   "source": [
    "entropia_libro1 = calculo_entropia(frecc_libro1,total_palabras_libro1)\n",
    "entropia_libro2 = calculo_entropia(frecc_libro2,total_palabras_libro2)\n",
    "print(\"La entropía global del texto 1 es de:\", entropia_libro1)\n",
    "print(\"La entropía global del texto 2 es de:\", entropia_libro2)"
   ]
  },
  {
   "cell_type": "markdown",
   "metadata": {},
   "source": [
    "- ### Segundo, quitando las stopwords: calculamos la entropía global a nivel de palabra de los documentos libro_1 y libro_2."
   ]
  },
  {
   "cell_type": "markdown",
   "metadata": {},
   "source": [
    "- Definimos una función para remover las stopwords y guardamos los nuevos textos en nuevas variables."
   ]
  },
  {
   "cell_type": "code",
   "execution_count": 67,
   "metadata": {},
   "outputs": [],
   "source": [
    "_STOPWORDS = stopwords.words(\"spanish\")\n",
    "\n",
    "def quitar_stopwords (texto):\n",
    "    nuevo_texto = []\n",
    "    for palabra in texto.split():\n",
    "        if palabra in _STOPWORDS:\n",
    "            continue\n",
    "        else:\n",
    "            nuevo_texto.append(palabra)\n",
    "    return \" \".join(nuevo_texto)\n"
   ]
  },
  {
   "cell_type": "code",
   "execution_count": 68,
   "metadata": {},
   "outputs": [],
   "source": [
    "libro1_sin_stopwords = quitar_stopwords(libro1_final)\n",
    "libro2_sin_stopwords = quitar_stopwords(libro2_final)"
   ]
  },
  {
   "cell_type": "markdown",
   "metadata": {},
   "source": [
    "- Utilizamos la función `contador_palabras` para encontrar las frecuencias por palabra."
   ]
  },
  {
   "cell_type": "code",
   "execution_count": 69,
   "metadata": {},
   "outputs": [],
   "source": [
    "frecc_sin_stopwords_libro1 =  contador_palabras(libro1_sin_stopwords)\n",
    "frecc_sin_stopwords_libro2 =  contador_palabras(libro2_sin_stopwords)"
   ]
  },
  {
   "cell_type": "markdown",
   "metadata": {},
   "source": [
    "- De la misma manera, utilizamos la función `total_caracteres` para encontrar el total de las palabras en los textos, es decir nuestro espacio muestral."
   ]
  },
  {
   "cell_type": "code",
   "execution_count": 71,
   "metadata": {},
   "outputs": [
    {
     "name": "stdout",
     "output_type": "stream",
     "text": [
      "27312 25799\n"
     ]
    }
   ],
   "source": [
    "total_palabras_sin_stopwords_libro1 = total_caracteres(frecc_sin_stopwords_libro1)\n",
    "total_palabras_sin_stopwords_libro2 = total_caracteres(frecc_sin_stopwords_libro2)\n",
    "\n",
    "print(total_palabras_sin_stopwords_libro1,total_palabras_sin_stopwords_libro2)"
   ]
  },
  {
   "cell_type": "markdown",
   "metadata": {},
   "source": [
    "- #### Calculamos la entropía global a nivel de carácter de los documentos libro_1 y libro_2 de manera independiente y sin stopwords."
   ]
  },
  {
   "cell_type": "code",
   "execution_count": 72,
   "metadata": {},
   "outputs": [
    {
     "name": "stdout",
     "output_type": "stream",
     "text": [
      "La entropía global del texto 1 (sin stopwords) es de: 11.163847752729627\n",
      "La entropía global del texto 2 (sin stopwords) es de: 11.625637770414498\n"
     ]
    }
   ],
   "source": [
    "entropia_sin_stopwords_libro1 = calculo_entropia(frecc_sin_stopwords_libro1,total_palabras_sin_stopwords_libro1)\n",
    "entropia_sin_stopwords_libro2 = calculo_entropia(frecc_sin_stopwords_libro2,total_palabras_sin_stopwords_libro2)\n",
    "print(\"La entropía global del texto 1 (sin stopwords) es de:\", entropia_sin_stopwords_libro1)\n",
    "print(\"La entropía global del texto 2 (sin stopwords) es de:\", entropia_sin_stopwords_libro2)"
   ]
  }
 ],
 "metadata": {
  "kernelspec": {
   "display_name": "base",
   "language": "python",
   "name": "python3"
  },
  "language_info": {
   "codemirror_mode": {
    "name": "ipython",
    "version": 3
   },
   "file_extension": ".py",
   "mimetype": "text/x-python",
   "name": "python",
   "nbconvert_exporter": "python",
   "pygments_lexer": "ipython3",
   "version": "3.12.4"
  }
 },
 "nbformat": 4,
 "nbformat_minor": 2
}
